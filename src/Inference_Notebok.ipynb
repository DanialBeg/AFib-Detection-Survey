{
  "nbformat": 4,
  "nbformat_minor": 0,
  "metadata": {
    "colab": {
      "provenance": []
    },
    "kernelspec": {
      "name": "python3",
      "display_name": "Python 3"
    },
    "language_info": {
      "name": "python"
    }
  },
  "cells": [
    {
      "cell_type": "code",
      "execution_count": 1,
      "metadata": {
        "id": "Z68ZSRFkvy4G"
      },
      "outputs": [],
      "source": [
        "import numpy as np\n",
        "import pandas as pd\n",
        "import matplotlib.pyplot as plt\n",
        "import seaborn as sns\n",
        "import random\n",
        "from sklearn.model_selection import train_test_split, GridSearchCV\n",
        "from sklearn.metrics import classification_report"
      ]
    },
    {
      "cell_type": "code",
      "source": [
        "# from google.colab import drive\n",
        "# drive.mount('/content/drive')"
      ],
      "metadata": {
        "colab": {
          "base_uri": "https://localhost:8080/"
        },
        "id": "1zMroYxyv6K1",
        "outputId": "8ab91964-5d31-42c8-cf1d-53d9380ec2df"
      },
      "execution_count": 2,
      "outputs": [
        {
          "output_type": "stream",
          "name": "stdout",
          "text": [
            "Mounted at /content/drive\n"
          ]
        }
      ]
    },
    {
      "cell_type": "markdown",
      "source": [
        "# LSTM\n",
        "This section loads our trained LSTM and then outputs a confusion matrix, accuracy, F-1 scores, precision, and recall"
      ],
      "metadata": {
        "id": "AtBkaTPLR01d"
      }
    },
    {
      "cell_type": "code",
      "source": [
        "from tensorflow.keras.models import load_model\n",
        "\n",
        "# Replace 'path_to_my_model.h5' with the path to your H5 file\n",
        "lstm_model = load_model('../saved_models/lstm_saved.h5')"
      ],
      "metadata": {
        "id": "ZtDQgmUYv8lx"
      },
      "execution_count": 3,
      "outputs": []
    },
    {
      "cell_type": "code",
      "source": [
        "df = pd.read_csv('../data/af_dataset.csv')\n",
        "\n",
        "for i in range(26):\n",
        "    df[df.columns[i]] = df[df.columns[i]].astype('float64')\n",
        "\n",
        "# get info for columns\n",
        "df.info()\n",
        "\n",
        "X = df.drop(columns='ritmi')\n",
        "y = df['ritmi']\n",
        "X_train, X_test, y_train, y_test=train_test_split(X, y, test_size = 0.25, random_state = 1234)\n",
        "X = df.drop(columns = ['ritmi','heart_axis','pacemaker','second_opinion','strat_fold','validated_by','validated_by_human'])"
      ],
      "metadata": {
        "colab": {
          "base_uri": "https://localhost:8080/"
        },
        "id": "VOfB8QtowLgz",
        "outputId": "961041b5-6e4a-4792-eda4-16878c0975a2"
      },
      "execution_count": 4,
      "outputs": [
        {
          "output_type": "stream",
          "name": "stdout",
          "text": [
            "<class 'pandas.core.frame.DataFrame'>\n",
            "RangeIndex: 4319176 entries, 0 to 4319175\n",
            "Data columns (total 26 columns):\n",
            " #   Column              Dtype  \n",
            "---  ------              -----  \n",
            " 0   I                   float64\n",
            " 1   II                  float64\n",
            " 2   III                 float64\n",
            " 3   aVF                 float64\n",
            " 4   aVR                 float64\n",
            " 5   aVL                 float64\n",
            " 6   V1                  float64\n",
            " 7   V2                  float64\n",
            " 8   V3                  float64\n",
            " 9   V4                  float64\n",
            " 10  V5                  float64\n",
            " 11  V6                  float64\n",
            " 12  ritmi               float64\n",
            " 13  age                 float64\n",
            " 14  sex                 float64\n",
            " 15  height              float64\n",
            " 16  weight              float64\n",
            " 17  nurse               float64\n",
            " 18  site                float64\n",
            " 19  device              float64\n",
            " 20  heart_axis          float64\n",
            " 21  validated_by        float64\n",
            " 22  second_opinion      float64\n",
            " 23  validated_by_human  float64\n",
            " 24  pacemaker           float64\n",
            " 25  strat_fold          float64\n",
            "dtypes: float64(26)\n",
            "memory usage: 856.8 MB\n"
          ]
        }
      ]
    },
    {
      "cell_type": "code",
      "source": [
        "# import essential libraries\n",
        "import pandas as pd\n",
        "import numpy as np\n",
        "from sklearn.neighbors import KNeighborsClassifier, KNeighborsRegressor\n",
        "from sklearn.ensemble import RandomForestClassifier, RandomForestRegressor\n",
        "from sklearn.model_selection import train_test_split, cross_validate, GridSearchCV\n",
        "from sklearn.metrics import accuracy_score, confusion_matrix, classification_report, mean_squared_error, mean_absolute_error\n",
        "import warnings\n",
        "from tensorflow.keras.models import Sequential\n",
        "warnings.filterwarnings('ignore')\n",
        "from tensorflow.keras.layers import Flatten, Dense, Conv1D, MaxPool1D, Dropout,MaxPooling1D,LSTM\n",
        "from tensorflow.keras.models import Sequential\n",
        "from tensorflow.keras.utils import to_categorical\n",
        "from tensorflow.keras import layers"
      ],
      "metadata": {
        "id": "-cjsNgV1wuBk"
      },
      "execution_count": 5,
      "outputs": []
    },
    {
      "cell_type": "code",
      "source": [
        "X_train = np.array(X_train).reshape(X_train.shape[0], X_train.shape[1], 1)\n",
        "X_test = np.array(X_test).reshape(X_test.shape[0], X_test.shape[1], 1)\n",
        "\n",
        "y_test_old = y_test.copy()\n",
        "y_train = to_categorical(y_train)\n",
        "y_test = to_categorical(y_test)\n",
        "y_train.shape[1]"
      ],
      "metadata": {
        "colab": {
          "base_uri": "https://localhost:8080/"
        },
        "id": "GEa_dXCAwiK3",
        "outputId": "e45caf11-c19a-4024-9eab-bd9a5e043d9c"
      },
      "execution_count": 6,
      "outputs": [
        {
          "output_type": "execute_result",
          "data": {
            "text/plain": [
              "3"
            ]
          },
          "metadata": {},
          "execution_count": 6
        }
      ]
    },
    {
      "cell_type": "code",
      "source": [
        "lstm_pred_result = lstm_model.predict(X_test)"
      ],
      "metadata": {
        "colab": {
          "base_uri": "https://localhost:8080/"
        },
        "id": "QnoVOKplwhcp",
        "outputId": "c30e06b5-1261-48dd-ffc8-f592aa8c67c6"
      },
      "execution_count": 7,
      "outputs": [
        {
          "output_type": "stream",
          "name": "stdout",
          "text": [
            "33744/33744 [==============================] - 296s 9ms/step\n"
          ]
        }
      ]
    },
    {
      "cell_type": "code",
      "source": [
        "final_pred_lstm = [np.argmax(i) for i in lstm_pred_result]\n",
        "print(classification_report(y_test_old,final_pred_lstm))"
      ],
      "metadata": {
        "colab": {
          "base_uri": "https://localhost:8080/"
        },
        "id": "xOrMMSJ_w2Pv",
        "outputId": "12629dbc-a921-4aef-d7f9-02ba3ad333e3"
      },
      "execution_count": 8,
      "outputs": [
        {
          "output_type": "stream",
          "name": "stdout",
          "text": [
            "              precision    recall  f1-score   support\n",
            "\n",
            "         0.0       0.90      0.86      0.88    335792\n",
            "         1.0       0.82      0.93      0.87    267846\n",
            "         2.0       0.92      0.88      0.90    476156\n",
            "\n",
            "    accuracy                           0.89   1079794\n",
            "   macro avg       0.88      0.89      0.88   1079794\n",
            "weighted avg       0.89      0.89      0.89   1079794\n",
            "\n"
          ]
        }
      ]
    },
    {
      "cell_type": "code",
      "source": [
        "# Confusion Matrix\n",
        "cm = confusion_matrix(y_test_old, final_pred_lstm)\n",
        "sns.heatmap(cm, annot=True, fmt='d', cmap='Blues')"
      ],
      "metadata": {
        "colab": {
          "base_uri": "https://localhost:8080/",
          "height": 447
        },
        "id": "RXKDmEOdxIVn",
        "outputId": "43914f9b-0f7d-4501-9f2a-54077af7a714"
      },
      "execution_count": 9,
      "outputs": [
        {
          "output_type": "execute_result",
          "data": {
            "text/plain": [
              "<Axes: >"
            ]
          },
          "metadata": {},
          "execution_count": 9
        },
        {
          "output_type": "display_data",
          "data": {
            "text/plain": [
              "<Figure size 640x480 with 2 Axes>"
            ],
            "image/png": "[encoded data removed]"
          },
          "metadata": {}
        }
      ]
    },
    {
      "cell_type": "markdown",
      "source": [
        "# Logistic Regression\n",
        "This section trains our Logistic Regression Model and then outputs a confusion matrix, accuracy, F-1 scores, precision, and recall"
      ],
      "metadata": {
        "id": "a4CrXckISDJ8"
      }
    },
    {
      "cell_type": "code",
      "source": [
        "from sklearn.linear_model import LogisticRegression\n",
        "from sklearn.model_selection import train_test_split\n",
        "from sklearn.preprocessing import StandardScaler\n",
        "from sklearn.metrics import accuracy_score\n",
        "from sklearn import datasets"
      ],
      "metadata": {
        "id": "rRL3C6etxJ3-"
      },
      "execution_count": 10,
      "outputs": []
    },
    {
      "cell_type": "code",
      "source": [
        "df = pd.read_csv('../data/af_dataset.csv')"
      ],
      "metadata": {
        "id": "lkYfFvlB11bH"
      },
      "execution_count": 11,
      "outputs": []
    },
    {
      "cell_type": "code",
      "source": [
        "for i in range(26):\n",
        "    df[df.columns[i]] = df[df.columns[i]].astype('float64')\n",
        "\n",
        "# get info for columns\n",
        "df.info()\n"
      ],
      "metadata": {
        "colab": {
          "base_uri": "https://localhost:8080/"
        },
        "id": "lME1KQSz1-PA",
        "outputId": "ba255c93-2842-44e4-faff-4a41f65ca2a4"
      },
      "execution_count": 12,
      "outputs": [
        {
          "output_type": "stream",
          "name": "stdout",
          "text": [
            "<class 'pandas.core.frame.DataFrame'>\n",
            "RangeIndex: 4319176 entries, 0 to 4319175\n",
            "Data columns (total 26 columns):\n",
            " #   Column              Dtype  \n",
            "---  ------              -----  \n",
            " 0   I                   float64\n",
            " 1   II                  float64\n",
            " 2   III                 float64\n",
            " 3   aVF                 float64\n",
            " 4   aVR                 float64\n",
            " 5   aVL                 float64\n",
            " 6   V1                  float64\n",
            " 7   V2                  float64\n",
            " 8   V3                  float64\n",
            " 9   V4                  float64\n",
            " 10  V5                  float64\n",
            " 11  V6                  float64\n",
            " 12  ritmi               float64\n",
            " 13  age                 float64\n",
            " 14  sex                 float64\n",
            " 15  height              float64\n",
            " 16  weight              float64\n",
            " 17  nurse               float64\n",
            " 18  site                float64\n",
            " 19  device              float64\n",
            " 20  heart_axis          float64\n",
            " 21  validated_by        float64\n",
            " 22  second_opinion      float64\n",
            " 23  validated_by_human  float64\n",
            " 24  pacemaker           float64\n",
            " 25  strat_fold          float64\n",
            "dtypes: float64(26)\n",
            "memory usage: 856.8 MB\n"
          ]
        }
      ]
    },
    {
      "cell_type": "code",
      "source": [
        "X = df.drop(columns='ritmi')\n",
        "y = df['ritmi']\n",
        "X_train, X_test, y_train, y_test=train_test_split(X, y, test_size = 0.25, random_state = 1234)\n",
        "X = df.drop(columns = ['ritmi','heart_axis','pacemaker','second_opinion','strat_fold','validated_by','validated_by_human'])"
      ],
      "metadata": {
        "id": "y6xSgIvcyr6t"
      },
      "execution_count": 13,
      "outputs": []
    },
    {
      "cell_type": "code",
      "source": [
        "import torch\n",
        "import torch.nn as nn\n",
        "import torch.optim as optim\n",
        "from torch.utils.data import TensorDataset, DataLoader\n",
        "from sklearn.metrics import accuracy_score, confusion_matrix\n",
        "\n",
        "X_train_tensor = torch.tensor(X_train.values, dtype=torch.float32)\n",
        "X_test_tensor = torch.tensor(X_test.values, dtype=torch.float32)\n",
        "y_train_tensor = torch.tensor(y_train.values, dtype=torch.long)\n",
        "y_test_tensor = torch.tensor(y_test.values, dtype=torch.long)"
      ],
      "metadata": {
        "id": "sOZcu3S-yuFr"
      },
      "execution_count": 14,
      "outputs": []
    },
    {
      "cell_type": "code",
      "source": [
        "# Standardizing the features\n",
        "scaler = StandardScaler()\n",
        "X_train = scaler.fit_transform(X_train)\n",
        "X_test = scaler.transform(X_test)"
      ],
      "metadata": {
        "id": "4gsNa8mPyTTn"
      },
      "execution_count": 15,
      "outputs": []
    },
    {
      "cell_type": "code",
      "source": [
        "# Create a logistic regression model\n",
        "model = LogisticRegression()\n",
        "\n",
        "# Train the model\n",
        "model.fit(X_train, y_train)"
      ],
      "metadata": {
        "colab": {
          "base_uri": "https://localhost:8080/",
          "height": 74
        },
        "id": "mAs5tWTuyk2t",
        "outputId": "81485d66-11c8-4255-d0c3-5b20f04e2ef9"
      },
      "execution_count": 16,
      "outputs": [
        {
          "output_type": "execute_result",
          "data": {
            "text/plain": [
              "LogisticRegression()"
            ],
            "text/html": [
              "<style>#sk-container-id-1 {color: black;background-color: white;}#sk-container-id-1 pre{padding: 0;}#sk-container-id-1 div.sk-toggleable {background-color: white;}#sk-container-id-1 label.sk-toggleable__label {cursor: pointer;display: block;width: 100%;margin-bottom: 0;padding: 0.3em;box-sizing: border-box;text-align: center;}#sk-container-id-1 label.sk-toggleable__label-arrow:before {content: \"▸\";float: left;margin-right: 0.25em;color: #696969;}#sk-container-id-1 label.sk-toggleable__label-arrow:hover:before {color: black;}#sk-container-id-1 div.sk-estimator:hover label.sk-toggleable__label-arrow:before {color: black;}#sk-container-id-1 div.sk-toggleable__content {max-height: 0;max-width: 0;overflow: hidden;text-align: left;background-color: #f0f8ff;}#sk-container-id-1 div.sk-toggleable__content pre {margin: 0.2em;color: black;border-radius: 0.25em;background-color: #f0f8ff;}#sk-container-id-1 input.sk-toggleable__control:checked~div.sk-toggleable__content {max-height: 200px;max-width: 100%;overflow: auto;}#sk-container-id-1 input.sk-toggleable__control:checked~label.sk-toggleable__label-arrow:before {content: \"▾\";}#sk-container-id-1 div.sk-estimator input.sk-toggleable__control:checked~label.sk-toggleable__label {background-color: #d4ebff;}#sk-container-id-1 div.sk-label input.sk-toggleable__control:checked~label.sk-toggleable__label {background-color: #d4ebff;}#sk-container-id-1 input.sk-hidden--visually {border: 0;clip: rect(1px 1px 1px 1px);clip: rect(1px, 1px, 1px, 1px);height: 1px;margin: -1px;overflow: hidden;padding: 0;position: absolute;width: 1px;}#sk-container-id-1 div.sk-estimator {font-family: monospace;background-color: #f0f8ff;border: 1px dotted black;border-radius: 0.25em;box-sizing: border-box;margin-bottom: 0.5em;}#sk-container-id-1 div.sk-estimator:hover {background-color: #d4ebff;}#sk-container-id-1 div.sk-parallel-item::after {content: \"\";width: 100%;border-bottom: 1px solid gray;flex-grow: 1;}#sk-container-id-1 div.sk-label:hover label.sk-toggleable__label {background-color: #d4ebff;}#sk-container-id-1 div.sk-serial::before {content: \"\";position: absolute;border-left: 1px solid gray;box-sizing: border-box;top: 0;bottom: 0;left: 50%;z-index: 0;}#sk-container-id-1 div.sk-serial {display: flex;flex-direction: column;align-items: center;background-color: white;padding-right: 0.2em;padding-left: 0.2em;position: relative;}#sk-container-id-1 div.sk-item {position: relative;z-index: 1;}#sk-container-id-1 div.sk-parallel {display: flex;align-items: stretch;justify-content: center;background-color: white;position: relative;}#sk-container-id-1 div.sk-item::before, #sk-container-id-1 div.sk-parallel-item::before {content: \"\";position: absolute;border-left: 1px solid gray;box-sizing: border-box;top: 0;bottom: 0;left: 50%;z-index: -1;}#sk-container-id-1 div.sk-parallel-item {display: flex;flex-direction: column;z-index: 1;position: relative;background-color: white;}#sk-container-id-1 div.sk-parallel-item:first-child::after {align-self: flex-end;width: 50%;}#sk-container-id-1 div.sk-parallel-item:last-child::after {align-self: flex-start;width: 50%;}#sk-container-id-1 div.sk-parallel-item:only-child::after {width: 0;}#sk-container-id-1 div.sk-dashed-wrapped {border: 1px dashed gray;margin: 0 0.4em 0.5em 0.4em;box-sizing: border-box;padding-bottom: 0.4em;background-color: white;}#sk-container-id-1 div.sk-label label {font-family: monospace;font-weight: bold;display: inline-block;line-height: 1.2em;}#sk-container-id-1 div.sk-label-container {text-align: center;}#sk-container-id-1 div.sk-container {/* jupyter's `normalize.less` sets `[hidden] { display: none; }` but bootstrap.min.css set `[hidden] { display: none !important; }` so we also need the `!important` here to be able to override the default hidden behavior on the sphinx rendered scikit-learn.org. See: https://github.com/scikit-learn/scikit-learn/issues/21755 */display: inline-block !important;position: relative;}#sk-container-id-1 div.sk-text-repr-fallback {display: none;}</style><div id=\"sk-container-id-1\" class=\"sk-top-container\"><div class=\"sk-text-repr-fallback\"><pre>LogisticRegression()</pre><b>In a Jupyter environment, please rerun this cell to show the HTML representation or trust the notebook. <br />On GitHub, the HTML representation is unable to render, please try loading this page with nbviewer.org.</b></div><div class=\"sk-container\" hidden><div class=\"sk-item\"><div class=\"sk-estimator sk-toggleable\"><input class=\"sk-toggleable__control sk-hidden--visually\" id=\"sk-estimator-id-1\" type=\"checkbox\" checked><label for=\"sk-estimator-id-1\" class=\"sk-toggleable__label sk-toggleable__label-arrow\">LogisticRegression</label><div class=\"sk-toggleable__content\"><pre>LogisticRegression()</pre></div></div></div></div></div>"
            ]
          },
          "metadata": {},
          "execution_count": 16
        }
      ]
    },
    {
      "cell_type": "code",
      "source": [
        "# Make predictions\n",
        "y_pred = model.predict(X_test)\n",
        "\n",
        "# Calculate accuracy\n",
        "accuracy = accuracy_score(y_test, y_pred)\n",
        "print(f'Accuracy: {accuracy}')\n",
        "\n",
        "from sklearn.metrics import f1_score, confusion_matrix\n",
        "\n",
        "f1 = f1_score(y_test, y_pred, average=None)\n",
        "print(f'F1 Score: {f1}')\n",
        "\n",
        "cm = confusion_matrix(y_test, y_pred)\n",
        "print('Confusion Matrix:')\n",
        "print(cm)\n",
        "\n",
        "from sklearn.metrics import f1_score, confusion_matrix, precision_score, recall_score\n",
        "\n",
        "\n",
        "# Calculate precision and recall\n",
        "precision = precision_score(y_test, y_pred, average=None)\n",
        "recall = recall_score(y_test, y_pred, average=None)\n",
        "\n",
        "print(f'Precision: {precision}')\n",
        "print(f'Recall: {recall}')"
      ],
      "metadata": {
        "colab": {
          "base_uri": "https://localhost:8080/"
        },
        "id": "SVxA48XRy3Wx",
        "outputId": "c1b77d3f-2f7d-49db-bffa-aedf22574fd3"
      },
      "execution_count": 17,
      "outputs": [
        {
          "output_type": "stream",
          "name": "stdout",
          "text": [
            "Accuracy: 0.47919325352798775\n",
            "F1 Score: [0.22466129 0.46197226 0.58629098]\n",
            "Confusion Matrix:\n",
            "[[ 49821  68213 217758]\n",
            " [ 20129 131727 115990]\n",
            " [ 37779 102495 335882]]\n",
            "Precision: [0.462466   0.43555475 0.50159342]\n",
            "Recall: [0.14836863 0.49180126 0.70540327]\n"
          ]
        }
      ]
    },
    {
      "cell_type": "markdown",
      "source": [
        "# MLP\n",
        "This section defines our custom MLP class and then loads our trained model and outputs a confusion matrix, accuracy, F-1 scores, precision, and recall"
      ],
      "metadata": {
        "id": "Vm8HRcBdSGpc"
      }
    },
    {
      "cell_type": "code",
      "source": [
        "import torch.nn as nn\n",
        "\n",
        "class SimpleMLP(nn.Module):\n",
        "    def __init__(self, input_size, output_size):\n",
        "        super(SimpleMLP, self).__init__()\n",
        "        self.fc1 = nn.Linear(input_size, 128)\n",
        "        self.relu = nn.ReLU()\n",
        "        self.fc2 = nn.Linear(128, 64)\n",
        "        self.fc3 = nn.Linear(64, output_size)\n",
        "\n",
        "    def forward(self, x):\n",
        "        x = self.fc1(x)\n",
        "        x = self.relu(x)\n",
        "        x = self.fc2(x)\n",
        "        x = self.relu(x)\n",
        "        x = self.fc3(x)\n",
        "        return x\n",
        "\n"
      ],
      "metadata": {
        "id": "ZvWl8QFW6fvE"
      },
      "execution_count": 22,
      "outputs": []
    },
    {
      "cell_type": "code",
      "source": [
        "import torch\n",
        "\n",
        "# Load the entire model directly\n",
        "model_mlp = torch.load('../saved_models/simple_mlp_model.pth')\n",
        "\n",
        "# Put the model in evaluation mode\n",
        "model_mlp.eval()\n"
      ],
      "metadata": {
        "colab": {
          "base_uri": "https://localhost:8080/"
        },
        "id": "SXr0updKzrCW",
        "outputId": "e2861a02-cb57-4c05-e7f6-e8620b9fcb43"
      },
      "execution_count": 23,
      "outputs": [
        {
          "output_type": "execute_result",
          "data": {
            "text/plain": [
              "SimpleMLP(\n",
              "  (fc1): Linear(in_features=25, out_features=128, bias=True)\n",
              "  (relu): ReLU()\n",
              "  (fc2): Linear(in_features=128, out_features=64, bias=True)\n",
              "  (fc3): Linear(in_features=64, out_features=3, bias=True)\n",
              ")"
            ]
          },
          "metadata": {},
          "execution_count": 23
        }
      ]
    },
    {
      "cell_type": "code",
      "source": [
        "with torch.no_grad():\n",
        "    outputs = model_mlp(X_test_tensor)\n",
        "    _, predicted = torch.max(outputs, 1)\n",
        "\n",
        "from sklearn.metrics import classification_report, confusion_matrix, f1_score\n",
        "\n",
        "# Calculate precision, recall, and other metrics\n",
        "report = classification_report(y_test_tensor.numpy(), predicted.numpy(), target_names=[\"SR\", \"AF\", \"VA\"])\n",
        "print(report)\n",
        "\n",
        "# Convert to numpy arrays for sklearn compatibility\n",
        "true_labels = y_test_tensor.numpy()\n",
        "predicted_labels = predicted.numpy()\n",
        "\n",
        "# Confusion Matrix\n",
        "conf_matrix = confusion_matrix(true_labels, predicted_labels)\n",
        "print(\"Confusion Matrix:\\n\", conf_matrix)\n",
        "\n",
        "# F1 Score\n",
        "f1 = f1_score(true_labels, predicted_labels, average='macro')  #\n",
        "print(\"F1 Score:\", f1)"
      ],
      "metadata": {
        "colab": {
          "base_uri": "https://localhost:8080/"
        },
        "id": "EADDo3BYzwXl",
        "outputId": "424603b7-6a4e-4b48-cb2b-2f4def074a97"
      },
      "execution_count": 25,
      "outputs": [
        {
          "output_type": "stream",
          "name": "stdout",
          "text": [
            "              precision    recall  f1-score   support\n",
            "\n",
            "          SR       0.81      0.65      0.72    335792\n",
            "          AF       0.71      0.77      0.74    267846\n",
            "          VA       0.74      0.80      0.77    476156\n",
            "\n",
            "    accuracy                           0.75   1079794\n",
            "   macro avg       0.75      0.74      0.74   1079794\n",
            "weighted avg       0.75      0.75      0.75   1079794\n",
            "\n",
            "Confusion Matrix:\n",
            " [[219879  32227  83686]\n",
            " [ 12350 205774  49722]\n",
            " [ 39064  53870 383222]]\n",
            "F1 Score: 0.7438894493686522\n"
          ]
        }
      ]
    },
    {
      "cell_type": "markdown",
      "source": [
        "# Transformer Unweighted\n",
        "\n",
        "This section trains our Logistic Regression Model and then outputs a confusion matrix, accuracy, F-1 scores, precision, and recall"
      ],
      "metadata": {
        "id": "Dk-K_w63F-V7"
      }
    },
    {
      "cell_type": "code",
      "source": [
        "ecg_tensor = torch.load('transformer_data/output_file.pt')\n",
        "print(ecg_tensor.shape)\n",
        "ecg_tensor = ecg_tensor.view(6428, 700, 12)"
      ],
      "metadata": {
        "colab": {
          "base_uri": "https://localhost:8080/"
        },
        "id": "lrrGWH-v1nQv",
        "outputId": "b56c5334-6a9e-45bb-bc78-3f1f038abab8"
      },
      "execution_count": 31,
      "outputs": [
        {
          "output_type": "stream",
          "name": "stdout",
          "text": [
            "torch.Size([6428, 8400])\n"
          ]
        }
      ]
    },
    {
      "cell_type": "code",
      "source": [
        "# labels_tensor = torch.load('transformer_data/labels_updated.pt')\n",
        "# demo_tensor = torch.load('transformer_data/other_features_file_encoded.pt')\n",
        "labels_tensor = torch.load('transformer_data/labels.pt')\n",
        "demo_tensor = torch.load('transformer_data/other_features_file.pt')\n",
        "print(labels_tensor.shape)\n",
        "print(demo_tensor.shape)\n",
        "new_dtype = torch.float32\n",
        "demo_tensor = demo_tensor.to(dtype=new_dtype)\n",
        "demo_tensor.shape"
      ],
      "metadata": {
        "colab": {
          "base_uri": "https://localhost:8080/"
        },
        "id": "-Q9Ta48WIOL2",
        "outputId": "10adb468-3d4e-462a-95a1-4cbe3fd69d92"
      },
      "execution_count": 30,
      "outputs": [
        {
          "output_type": "stream",
          "name": "stdout",
          "text": [
            "torch.Size([6428])\n",
            "torch.Size([6428, 70])\n"
          ]
        },
        {
          "output_type": "execute_result",
          "data": {
            "text/plain": [
              "torch.Size([6428, 70])"
            ]
          },
          "metadata": {},
          "execution_count": 30
        }
      ]
    },
    {
      "cell_type": "code",
      "source": [
        "import torch\n",
        "import torch.nn as nn\n",
        "import torch.nn.functional as F\n",
        "\n",
        "class PositionalEncoding(nn.Module):\n",
        "    def __init__(self, d_model, max_len=700):  # Change max_len to 8388\n",
        "        super(PositionalEncoding, self).__init__()\n",
        "        self.encoding = self._generate_positional_encoding(d_model, max_len)\n",
        "\n",
        "    def _generate_positional_encoding(self, d_model, max_len):\n",
        "        position = torch.arange(0, max_len).unsqueeze(1).float()\n",
        "        div_term = torch.exp(torch.arange(0, d_model, 2).float() * -(torch.log(torch.tensor(10000.0)) / d_model))\n",
        "        pe = torch.zeros((max_len, d_model))\n",
        "        pe[:, 0::2] = torch.sin(position * div_term)\n",
        "        pe[:, 1::2] = torch.cos(position * div_term)\n",
        "        pe = pe.unsqueeze(0)\n",
        "        return pe\n",
        "\n",
        "    def forward(self, x):\n",
        "        result = x + self.encoding[:, :x.size(1)].detach()\n",
        "        return result\n",
        "\n",
        "class TransformerBlock(nn.Module):\n",
        "    def __init__(self, d_model, nhead, ff_dim, dropout=0.1):\n",
        "        super(TransformerBlock, self).__init__()\n",
        "        self.self_attn = nn.MultiheadAttention(d_model, nhead)\n",
        "        self.dropout_attn = nn.Dropout(dropout)\n",
        "        self.norm1 = nn.LayerNorm(d_model)\n",
        "\n",
        "        self.ffn = nn.Sequential(\n",
        "            nn.Linear(d_model, ff_dim),\n",
        "            nn.ReLU(),\n",
        "            nn.Dropout(dropout),\n",
        "            nn.Linear(ff_dim, d_model)\n",
        "        )\n",
        "        self.dropout_ffn = nn.Dropout(dropout)\n",
        "        self.norm2 = nn.LayerNorm(d_model)\n",
        "\n",
        "    def forward(self, x):\n",
        "        attn_output, _ = self.self_attn(x, x, x)\n",
        "        x = x + self.dropout_attn(attn_output)\n",
        "        x = self.norm1(x)\n",
        "        ffn_output = self.ffn(x)\n",
        "        x = x + self.dropout_ffn(ffn_output)\n",
        "        x = self.norm2(x)\n",
        "        return x\n",
        "\n",
        "class TransformerClassifier(nn.Module):\n",
        "    def __init__(self, input_size, dem_size, d_model, nhead, ff_dim, num_transformer_blocks, mlp_units, dropout=0.1):\n",
        "        super(TransformerClassifier, self).__init__()\n",
        "        self.embedding = nn.Linear(input_size, d_model)\n",
        "        self.embedding_dem = nn.Linear(dem_size, d_model)\n",
        "        self.positional_encoding = PositionalEncoding(d_model)\n",
        "        self.transformer_blocks = nn.ModuleList(\n",
        "            [TransformerBlock(d_model, nhead, ff_dim, dropout) for _ in range(num_transformer_blocks)]\n",
        "        )\n",
        "        self.global_avg_pooling = nn.AdaptiveAvgPool1d(1)\n",
        "        self.mlp = nn.Sequential(\n",
        "            nn.Linear(d_model, mlp_units),\n",
        "            nn.ReLU(),\n",
        "            nn.Dropout(dropout),\n",
        "            nn.Linear(mlp_units, 3)\n",
        "        )\n",
        "\n",
        "    def forward(self, x, x_dem):\n",
        "        print(x.shape)\n",
        "        x = self.embedding(x)\n",
        "        x = self.positional_encoding(x)\n",
        "        x_dem = self.embedding_dem(x_dem)\n",
        "        x_dem = x_dem.unsqueeze(1)\n",
        "        x = torch.cat([x, x_dem], dim=1)\n",
        "        for block in self.transformer_blocks:\n",
        "            x = block(x)\n",
        "        x = self.global_avg_pooling(x.permute(0, 2, 1)).squeeze(2)\n",
        "        x = self.mlp(x)\n",
        "        return F.softmax(x, dim=1)\n"
      ],
      "metadata": {
        "id": "z-9gefJvK1MJ"
      },
      "execution_count": 32,
      "outputs": []
    },
    {
      "cell_type": "code",
      "source": [
        "input_size = 12\n",
        "dem_size = 70\n",
        "sequence_length = 700\n",
        "model_unw = TransformerClassifier(input_size=input_size, dem_size = dem_size, d_model=256, nhead=1, ff_dim=512, num_transformer_blocks=1, mlp_units=64, dropout=0.25)\n",
        "\n",
        "\n",
        "# Assuming the path is correct\n",
        "state_dict = torch.load('../saved_models/transformer_model.pth', map_location=torch.device('cpu'))\n",
        "model_unw.load_state_dict(state_dict)\n",
        "model_unw.eval()\n"
      ],
      "metadata": {
        "colab": {
          "base_uri": "https://localhost:8080/"
        },
        "id": "-ygOQPVULL54",
        "outputId": "ba7aa64a-527f-4655-c43d-7587c0d61697"
      },
      "execution_count": 41,
      "outputs": [
        {
          "output_type": "execute_result",
          "data": {
            "text/plain": [
              "TransformerClassifier(\n",
              "  (embedding): Linear(in_features=12, out_features=256, bias=True)\n",
              "  (embedding_dem): Linear(in_features=70, out_features=256, bias=True)\n",
              "  (positional_encoding): PositionalEncoding()\n",
              "  (transformer_blocks): ModuleList(\n",
              "    (0): TransformerBlock(\n",
              "      (self_attn): MultiheadAttention(\n",
              "        (out_proj): NonDynamicallyQuantizableLinear(in_features=256, out_features=256, bias=True)\n",
              "      )\n",
              "      (dropout_attn): Dropout(p=0.25, inplace=False)\n",
              "      (norm1): LayerNorm((256,), eps=1e-05, elementwise_affine=True)\n",
              "      (ffn): Sequential(\n",
              "        (0): Linear(in_features=256, out_features=512, bias=True)\n",
              "        (1): ReLU()\n",
              "        (2): Dropout(p=0.25, inplace=False)\n",
              "        (3): Linear(in_features=512, out_features=256, bias=True)\n",
              "      )\n",
              "      (dropout_ffn): Dropout(p=0.25, inplace=False)\n",
              "      (norm2): LayerNorm((256,), eps=1e-05, elementwise_affine=True)\n",
              "    )\n",
              "  )\n",
              "  (global_avg_pooling): AdaptiveAvgPool1d(output_size=1)\n",
              "  (mlp): Sequential(\n",
              "    (0): Linear(in_features=256, out_features=64, bias=True)\n",
              "    (1): ReLU()\n",
              "    (2): Dropout(p=0.25, inplace=False)\n",
              "    (3): Linear(in_features=64, out_features=3, bias=True)\n",
              "  )\n",
              ")"
            ]
          },
          "metadata": {},
          "execution_count": 41
        }
      ]
    },
    {
      "cell_type": "code",
      "source": [
        "ecg_train_data, ecg_test_data, demo_train_data, demo_test_data, train_labels, test_labels = train_test_split(ecg_tensor, demo_tensor, labels_tensor,test_size=0.1, random_state=42)\n",
        "train_dataset = TensorDataset(ecg_train_data, demo_train_data, train_labels)\n",
        "train_dataloader = DataLoader(train_dataset, batch_size=batch_size, shuffle=True, drop_last= True)\n",
        "test_dataset = TensorDataset(ecg_test_data, demo_test_data, test_labels)\n",
        "test_dataloader = DataLoader(test_dataset, batch_size=batch_size, shuffle=False, drop_last= True)"
      ],
      "metadata": {
        "id": "GAPmHoScNhBA"
      },
      "execution_count": 42,
      "outputs": []
    },
    {
      "cell_type": "code",
      "source": [
        "from sklearn.metrics import precision_recall_curve, roc_auc_score, auc, accuracy_score\n",
        "model_unw.eval()\n",
        "all_outputs = []\n",
        "all_targets = []\n",
        "all_logits = []\n",
        "with torch.no_grad():\n",
        "    for inputs, dem_inputs, targets in test_dataloader:\n",
        "        outputs = model_unw(inputs, dem_inputs)\n",
        "        predictions = outputs.argmax(dim=1)\n",
        "        all_logits.extend(predictions.cpu().numpy())\n",
        "        all_outputs.extend(outputs[:, 1].cpu().numpy())\n",
        "        all_targets.extend(targets.cpu().numpy())\n",
        "\n",
        "accuracy = accuracy_score(all_targets, all_logits)\n",
        "\n",
        "print(f\"Accuracy: {accuracy:.4f}\")\n"
      ],
      "metadata": {
        "colab": {
          "base_uri": "https://localhost:8080/"
        },
        "id": "IhfC5dJmLdtu",
        "outputId": "764989dd-bea9-496b-cb76-77f8b8bfe8e4"
      },
      "execution_count": 45,
      "outputs": [
        {
          "output_type": "stream",
          "name": "stdout",
          "text": [
            "torch.Size([512, 700, 12])\n",
            "Accuracy: 0.3340\n"
          ]
        }
      ]
    },
    {
      "cell_type": "code",
      "source": [
        "from sklearn.metrics import precision_score, recall_score, f1_score\n",
        "precision = precision_score(all_targets, all_logits, average = None)\n",
        "recall = recall_score(all_targets, all_logits, average = None)\n",
        "f1 = f1_score(all_targets, all_logits, average = None)\n",
        "\n",
        "print('F1_score is: ' + str(f1))\n",
        "print('Precison is: ' + str(precision))\n",
        "print('Recall is: ' + str(recall))"
      ],
      "metadata": {
        "colab": {
          "base_uri": "https://localhost:8080/"
        },
        "id": "RlCXWXd9Nh22",
        "outputId": "9d59058f-bc3f-4515-8bda-d69a30576df2"
      },
      "execution_count": 46,
      "outputs": [
        {
          "output_type": "stream",
          "name": "stdout",
          "text": [
            "F1_score is: [0.50381679 0.04316547 0.02608696]\n",
            "Precison is: [0.34375    0.16666667 0.21428571]\n",
            "Recall is: [0.94285714 0.02479339 0.01388889]\n"
          ]
        }
      ]
    },
    {
      "cell_type": "markdown",
      "source": [
        "# Transformer Weighted"
      ],
      "metadata": {
        "id": "liTn94lLNwHY"
      }
    },
    {
      "cell_type": "code",
      "source": [
        "input_size = 12\n",
        "dem_size = 70\n",
        "sequence_length = 700\n",
        "model_w = TransformerClassifier(input_size=input_size, dem_size = dem_size, d_model=256, nhead=1, ff_dim=512, num_transformer_blocks=1, mlp_units=64, dropout=0.25)\n",
        "\n",
        "\n",
        "# Assuming the path is correct\n",
        "state_dict = torch.load('../saved_models/transformer_model_unbalanced.pth', map_location=torch.device('cpu'))\n",
        "model_w.load_state_dict(state_dict)\n",
        "model_w.eval()"
      ],
      "metadata": {
        "colab": {
          "base_uri": "https://localhost:8080/"
        },
        "id": "MylJAo20NsiP",
        "outputId": "ad932682-1eb3-4a60-a594-3b968db12937"
      },
      "execution_count": 47,
      "outputs": [
        {
          "output_type": "execute_result",
          "data": {
            "text/plain": [
              "TransformerClassifier(\n",
              "  (embedding): Linear(in_features=12, out_features=256, bias=True)\n",
              "  (embedding_dem): Linear(in_features=70, out_features=256, bias=True)\n",
              "  (positional_encoding): PositionalEncoding()\n",
              "  (transformer_blocks): ModuleList(\n",
              "    (0): TransformerBlock(\n",
              "      (self_attn): MultiheadAttention(\n",
              "        (out_proj): NonDynamicallyQuantizableLinear(in_features=256, out_features=256, bias=True)\n",
              "      )\n",
              "      (dropout_attn): Dropout(p=0.25, inplace=False)\n",
              "      (norm1): LayerNorm((256,), eps=1e-05, elementwise_affine=True)\n",
              "      (ffn): Sequential(\n",
              "        (0): Linear(in_features=256, out_features=512, bias=True)\n",
              "        (1): ReLU()\n",
              "        (2): Dropout(p=0.25, inplace=False)\n",
              "        (3): Linear(in_features=512, out_features=256, bias=True)\n",
              "      )\n",
              "      (dropout_ffn): Dropout(p=0.25, inplace=False)\n",
              "      (norm2): LayerNorm((256,), eps=1e-05, elementwise_affine=True)\n",
              "    )\n",
              "  )\n",
              "  (global_avg_pooling): AdaptiveAvgPool1d(output_size=1)\n",
              "  (mlp): Sequential(\n",
              "    (0): Linear(in_features=256, out_features=64, bias=True)\n",
              "    (1): ReLU()\n",
              "    (2): Dropout(p=0.25, inplace=False)\n",
              "    (3): Linear(in_features=64, out_features=3, bias=True)\n",
              "  )\n",
              ")"
            ]
          },
          "metadata": {},
          "execution_count": 47
        }
      ]
    },
    {
      "cell_type": "code",
      "source": [
        "from sklearn.metrics import precision_recall_curve, roc_auc_score, auc, accuracy_score\n",
        "model_w.eval()\n",
        "all_outputs = []\n",
        "all_targets = []\n",
        "all_logits = []\n",
        "with torch.no_grad():\n",
        "    for inputs, dem_inputs, targets in test_dataloader:\n",
        "        outputs = model_w(inputs, dem_inputs)\n",
        "        predictions = outputs.argmax(dim=1)\n",
        "        all_logits.extend(predictions.cpu().numpy())\n",
        "        all_outputs.extend(outputs[:, 1].cpu().numpy())\n",
        "        all_targets.extend(targets.cpu().numpy())\n",
        "\n",
        "accuracy = accuracy_score(all_targets, all_logits)\n",
        "\n",
        "print(f\"Accuracy: {accuracy:.4f}\")\n"
      ],
      "metadata": {
        "colab": {
          "base_uri": "https://localhost:8080/"
        },
        "id": "lW2XBEayN-c8",
        "outputId": "c7a14086-c214-471a-a56d-38ec79de7af3"
      },
      "execution_count": 48,
      "outputs": [
        {
          "output_type": "stream",
          "name": "stdout",
          "text": [
            "torch.Size([512, 700, 12])\n",
            "Accuracy: 0.4219\n"
          ]
        }
      ]
    },
    {
      "cell_type": "code",
      "source": [
        "from sklearn.metrics import precision_score, recall_score, f1_score\n",
        "precision = precision_score(all_targets, all_logits, average = None)\n",
        "recall = recall_score(all_targets, all_logits, average = None)\n",
        "f1 = f1_score(all_targets, all_logits, average = None)\n",
        "\n",
        "print('F1_score is: ' + str(f1))\n",
        "print('Precison is: ' + str(precision))\n",
        "print('Recall is: ' + str(recall))"
      ],
      "metadata": {
        "colab": {
          "base_uri": "https://localhost:8080/"
        },
        "id": "q5SOM1SMOKO9",
        "outputId": "dafa499c-f190-4981-d628-0f701d9bc3cb"
      },
      "execution_count": 49,
      "outputs": [
        {
          "output_type": "stream",
          "name": "stdout",
          "text": [
            "F1_score is: [0.         0.         0.59340659]\n",
            "Precison is: [0.       0.       0.421875]\n",
            "Recall is: [0. 0. 1.]\n"
          ]
        }
      ]
    },
    {
      "cell_type": "code",
      "source": [],
      "metadata": {
        "id": "yvUHxAzdOQrY"
      },
      "execution_count": null,
      "outputs": []
    }
  ]
}