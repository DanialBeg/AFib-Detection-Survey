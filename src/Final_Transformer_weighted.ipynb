{
 "cells": [
  {
   "cell_type": "code",
   "execution_count": 1,
   "id": "3d01b8cf-2a8a-42bf-93ac-e7c215154144",
   "metadata": {},
   "outputs": [],
   "source": [
    "import pandas as pd\n",
    "import numpy as np\n",
    "import torch \n",
    "import torch.nn as nn \n",
    "import torch.nn.functional as F\n",
    "import torch.optim as optim \n",
    "from torch.utils.data import DataLoader, TensorDataset\n",
    "from sklearn.model_selection import train_test_split\n",
    "import matplotlib.pyplot as plt"
   ]
  },
  {
   "cell_type": "markdown",
   "id": "bb4c7b6b-dca7-40e3-959d-2adcdc110455",
   "metadata": {},
   "source": [
    "## Load the Demographics, ECG, and Labels"
   ]
  },
  {
   "cell_type": "code",
   "execution_count": 2,
   "id": "f9746bb9-6c30-4e4e-8575-bd6174bbc4e3",
   "metadata": {},
   "outputs": [
    {
     "name": "stdout",
     "output_type": "stream",
     "text": [
      "torch.Size([6428, 700, 12])\n"
     ]
    }
   ],
   "source": [
    "ecg_tensor = torch.load('transformer_data/output_file_updated.pt')\n",
    "ecg_tensor = ecg_tensor.view(6428, 700, 12)\n",
    "print(ecg_tensor.shape)"
   ]
  },
  {
   "cell_type": "code",
   "execution_count": 3,
   "id": "6121f109-eb7c-401f-a432-ef632b5ead91",
   "metadata": {},
   "outputs": [
    {
     "name": "stdout",
     "output_type": "stream",
     "text": [
      "torch.Size([6428])\n",
      "torch.Size([6428, 70])\n"
     ]
    },
    {
     "data": {
      "text/plain": [
       "torch.Size([6428, 70])"
      ]
     },
     "execution_count": 3,
     "metadata": {},
     "output_type": "execute_result"
    }
   ],
   "source": [
    "labels_tensor = torch.load('transformer_data/labels_updated.pt')\n",
    "demo_tensor = torch.load('transformer_data/other_features_file_encoded.pt')\n",
    "print(labels_tensor.shape)\n",
    "print(demo_tensor.shape)\n",
    "new_dtype = torch.float32\n",
    "demo_tensor = demo_tensor.to(dtype=new_dtype)\n",
    "demo_tensor.shape"
   ]
  },
  {
   "cell_type": "markdown",
   "id": "18feab4f-d749-4d45-b3ba-baa7c596ff10",
   "metadata": {},
   "source": [
    "## Transformer Model"
   ]
  },
  {
   "cell_type": "code",
   "execution_count": 4,
   "id": "4b34bd2c-d0e5-4648-bc8d-ed0f5057b4c5",
   "metadata": {},
   "outputs": [],
   "source": [
    "batch_size = 512\n",
    "learning_rate = 0.001\n",
    "ecg_train_data, ecg_test_data, demo_train_data, demo_test_data, train_labels, test_labels = train_test_split(ecg_tensor, demo_tensor, labels_tensor,test_size=0.1, random_state=42)\n",
    "train_dataset = TensorDataset(ecg_train_data, demo_train_data, train_labels)\n",
    "train_dataloader = DataLoader(train_dataset, batch_size=batch_size, shuffle=True, drop_last= True)\n",
    "test_dataset = TensorDataset(ecg_test_data, demo_test_data, test_labels)\n",
    "test_dataloader = DataLoader(test_dataset, batch_size=batch_size, shuffle=False, drop_last= True)"
   ]
  },
  {
   "cell_type": "code",
   "execution_count": 5,
   "id": "9fe330bf-1cdc-47dc-8b6d-fe26736a3d30",
   "metadata": {
    "scrolled": true
   },
   "outputs": [
    {
     "name": "stdout",
     "output_type": "stream",
     "text": [
      "TransformerClassifier(\n",
      "  (embedding): Linear(in_features=12, out_features=256, bias=True)\n",
      "  (embedding_dem): Linear(in_features=70, out_features=256, bias=True)\n",
      "  (positional_encoding): PositionalEncoding()\n",
      "  (transformer_blocks): ModuleList(\n",
      "    (0): TransformerBlock(\n",
      "      (self_attn): MultiheadAttention(\n",
      "        (out_proj): NonDynamicallyQuantizableLinear(in_features=256, out_features=256, bias=True)\n",
      "      )\n",
      "      (dropout_attn): Dropout(p=0.25, inplace=False)\n",
      "      (norm1): LayerNorm((256,), eps=1e-05, elementwise_affine=True)\n",
      "      (ffn): Sequential(\n",
      "        (0): Linear(in_features=256, out_features=512, bias=True)\n",
      "        (1): ReLU()\n",
      "        (2): Dropout(p=0.25, inplace=False)\n",
      "        (3): Linear(in_features=512, out_features=256, bias=True)\n",
      "      )\n",
      "      (dropout_ffn): Dropout(p=0.25, inplace=False)\n",
      "      (norm2): LayerNorm((256,), eps=1e-05, elementwise_affine=True)\n",
      "    )\n",
      "  )\n",
      "  (global_avg_pooling): AdaptiveAvgPool1d(output_size=1)\n",
      "  (mlp): Sequential(\n",
      "    (0): Linear(in_features=256, out_features=64, bias=True)\n",
      "    (1): ReLU()\n",
      "    (2): Dropout(p=0.25, inplace=False)\n",
      "    (3): Linear(in_features=64, out_features=3, bias=True)\n",
      "  )\n",
      ")\n"
     ]
    }
   ],
   "source": [
    "import torch\n",
    "import torch.nn as nn\n",
    "import torch.nn.functional as F\n",
    "\n",
    "class PositionalEncoding(nn.Module):\n",
    "    def __init__(self, d_model, max_len=700):  # Change max_len to 8388\n",
    "        super(PositionalEncoding, self).__init__()\n",
    "        self.encoding = self._generate_positional_encoding(d_model, max_len)\n",
    "        \n",
    "    def _generate_positional_encoding(self, d_model, max_len):\n",
    "        position = torch.arange(0, max_len).unsqueeze(1).float()\n",
    "        div_term = torch.exp(torch.arange(0, d_model, 2).float() * -(torch.log(torch.tensor(10000.0)) / d_model))\n",
    "        pe = torch.zeros((max_len, d_model))\n",
    "        pe[:, 0::2] = torch.sin(position * div_term)\n",
    "        pe[:, 1::2] = torch.cos(position * div_term)\n",
    "        pe = pe.unsqueeze(0)\n",
    "        return pe\n",
    "\n",
    "    def forward(self, x):\n",
    "        result = x + self.encoding[:, :x.size(1)].detach()\n",
    "        return result\n",
    "\n",
    "class TransformerBlock(nn.Module):\n",
    "    def __init__(self, d_model, nhead, ff_dim, dropout=0.1):\n",
    "        super(TransformerBlock, self).__init__()\n",
    "        self.self_attn = nn.MultiheadAttention(d_model, nhead)\n",
    "        self.dropout_attn = nn.Dropout(dropout)\n",
    "        self.norm1 = nn.LayerNorm(d_model)\n",
    "\n",
    "        self.ffn = nn.Sequential(\n",
    "            nn.Linear(d_model, ff_dim),\n",
    "            nn.ReLU(),\n",
    "            nn.Dropout(dropout),\n",
    "            nn.Linear(ff_dim, d_model)\n",
    "        )\n",
    "        self.dropout_ffn = nn.Dropout(dropout)\n",
    "        self.norm2 = nn.LayerNorm(d_model)\n",
    "\n",
    "    def forward(self, x):\n",
    "        attn_output, _ = self.self_attn(x, x, x)\n",
    "        x = x + self.dropout_attn(attn_output)\n",
    "        x = self.norm1(x)\n",
    "        ffn_output = self.ffn(x)\n",
    "        x = x + self.dropout_ffn(ffn_output)\n",
    "        x = self.norm2(x)\n",
    "        return x\n",
    "\n",
    "class TransformerClassifier(nn.Module):\n",
    "    def __init__(self, input_size, dem_size, d_model, nhead, ff_dim, num_transformer_blocks, mlp_units, dropout=0.1):\n",
    "        super(TransformerClassifier, self).__init__()\n",
    "        self.embedding = nn.Linear(input_size, d_model)\n",
    "        self.embedding_dem = nn.Linear(dem_size, d_model)\n",
    "        self.positional_encoding = PositionalEncoding(d_model)\n",
    "        self.transformer_blocks = nn.ModuleList(\n",
    "            [TransformerBlock(d_model, nhead, ff_dim, dropout) for _ in range(num_transformer_blocks)]\n",
    "        )\n",
    "        self.global_avg_pooling = nn.AdaptiveAvgPool1d(1)\n",
    "        self.mlp = nn.Sequential(\n",
    "            nn.Linear(d_model, mlp_units),\n",
    "            nn.ReLU(),\n",
    "            nn.Dropout(dropout),\n",
    "            nn.Linear(mlp_units, 3)\n",
    "        )\n",
    "\n",
    "    def forward(self, x, x_dem):\n",
    "        print(x.shape)\n",
    "        x = self.embedding(x)\n",
    "        x = self.positional_encoding(x)\n",
    "        x_dem = self.embedding_dem(x_dem)\n",
    "        x_dem = x_dem.unsqueeze(1)\n",
    "        x = torch.cat([x, x_dem], dim=1)\n",
    "        for block in self.transformer_blocks:\n",
    "            x = block(x)\n",
    "        x = self.global_avg_pooling(x.permute(0, 2, 1)).squeeze(2)\n",
    "        x = self.mlp(x)\n",
    "        return F.softmax(x, dim=1)\n",
    "\n",
    "input_size = 12\n",
    "dem_size = 70\n",
    "sequence_length = 700\n",
    "model = TransformerClassifier(input_size=input_size, dem_size = dem_size, d_model=256, nhead=1, ff_dim=512, num_transformer_blocks=1, mlp_units=64, dropout=0.25)\n",
    "\n",
    "optimizer = torch.optim.Adam(model.parameters(), lr=learning_rate)\n",
    "criterion = nn.CrossEntropyLoss()\n",
    "print(model)"
   ]
  },
  {
   "cell_type": "code",
   "execution_count": 6,
   "id": "f0e3edc3-306f-4a40-9de8-3cd5de318440",
   "metadata": {},
   "outputs": [],
   "source": [
    "num_classes = 3\n",
    "class_counts = torch.zeros(num_classes)\n",
    "for _, _, targets in train_dataloader:\n",
    "    class_counts += torch.bincount(targets, minlength=num_classes)\n",
    "\n",
    "total_samples = class_counts.sum()\n",
    "class_weights = total_samples / (num_classes * class_counts)\n",
    "\n",
    "class_weights /= class_weights.sum()"
   ]
  },
  {
   "cell_type": "code",
   "execution_count": 7,
   "id": "c2a98900-ed34-4924-8b5d-c723a970def9",
   "metadata": {
    "scrolled": true
   },
   "outputs": [
    {
     "name": "stdout",
     "output_type": "stream",
     "text": [
      "torch.Size([512, 700, 12])\n",
      "torch.Size([512, 700, 12])\n",
      "torch.Size([512, 700, 12])\n",
      "torch.Size([512, 700, 12])\n",
      "torch.Size([512, 700, 12])\n",
      "torch.Size([512, 700, 12])\n",
      "torch.Size([512, 700, 12])\n",
      "torch.Size([512, 700, 12])\n",
      "torch.Size([512, 700, 12])\n",
      "torch.Size([512, 700, 12])\n",
      "torch.Size([512, 700, 12])\n",
      "Epoch [1/5] - Train Loss: 0.3465\n",
      " Accuracy: 0.3182\n",
      "torch.Size([512, 700, 12])\n",
      "torch.Size([512, 700, 12])\n",
      "torch.Size([512, 700, 12])\n",
      "torch.Size([512, 700, 12])\n",
      "torch.Size([512, 700, 12])\n",
      "torch.Size([512, 700, 12])\n",
      "torch.Size([512, 700, 12])\n",
      "torch.Size([512, 700, 12])\n",
      "torch.Size([512, 700, 12])\n",
      "torch.Size([512, 700, 12])\n",
      "torch.Size([512, 700, 12])\n",
      "Epoch [2/5] - Train Loss: 0.3463\n",
      " Accuracy: 0.3286\n",
      "torch.Size([512, 700, 12])\n",
      "torch.Size([512, 700, 12])\n",
      "torch.Size([512, 700, 12])\n",
      "torch.Size([512, 700, 12])\n",
      "torch.Size([512, 700, 12])\n",
      "torch.Size([512, 700, 12])\n",
      "torch.Size([512, 700, 12])\n",
      "torch.Size([512, 700, 12])\n",
      "torch.Size([512, 700, 12])\n",
      "torch.Size([512, 700, 12])\n",
      "torch.Size([512, 700, 12])\n",
      "Epoch [3/5] - Train Loss: 0.3458\n",
      " Accuracy: 0.3424\n",
      "torch.Size([512, 700, 12])\n",
      "torch.Size([512, 700, 12])\n",
      "torch.Size([512, 700, 12])\n",
      "torch.Size([512, 700, 12])\n",
      "torch.Size([512, 700, 12])\n",
      "torch.Size([512, 700, 12])\n",
      "torch.Size([512, 700, 12])\n",
      "torch.Size([512, 700, 12])\n",
      "torch.Size([512, 700, 12])\n",
      "torch.Size([512, 700, 12])\n",
      "torch.Size([512, 700, 12])\n",
      "Epoch [4/5] - Train Loss: 0.3458\n",
      " Accuracy: 0.3301\n",
      "torch.Size([512, 700, 12])\n",
      "torch.Size([512, 700, 12])\n",
      "torch.Size([512, 700, 12])\n",
      "torch.Size([512, 700, 12])\n",
      "torch.Size([512, 700, 12])\n",
      "torch.Size([512, 700, 12])\n",
      "torch.Size([512, 700, 12])\n",
      "torch.Size([512, 700, 12])\n",
      "torch.Size([512, 700, 12])\n",
      "torch.Size([512, 700, 12])\n",
      "torch.Size([512, 700, 12])\n",
      "Epoch [5/5] - Train Loss: 0.3448\n",
      " Accuracy: 0.3261\n"
     ]
    }
   ],
   "source": [
    "from sklearn.metrics import precision_recall_curve, roc_auc_score, auc, accuracy_score\n",
    "from torch.nn import CrossEntropyLoss\n",
    "criterion = CrossEntropyLoss(weight=class_weights)\n",
    "all_outputs = []\n",
    "all_targets = []\n",
    "all_logits = []\n",
    "num_epochs = 5\n",
    "for epoch in range(num_epochs):\n",
    "    model.train()\n",
    "    running_loss = 0\n",
    "    for inputs, demo_inputs, targets in train_dataloader: \n",
    "        optimizer.zero_grad()\n",
    "        outputs = model(inputs, demo_inputs)\n",
    "        predictions = outputs.argmax(dim=1)\n",
    "        all_logits.extend(predictions.numpy())\n",
    "        all_outputs.extend(outputs[:, 1].detach().numpy())\n",
    "        all_targets.extend(targets.cpu().numpy())\n",
    "        class_weights_batch = class_weights[targets]\n",
    "        unweighted_loss = criterion(outputs, targets)\n",
    "        weighted_loss = (unweighted_loss * class_weights_batch).mean()\n",
    "        weighted_loss.backward()\n",
    "        optimizer.step()\n",
    "        running_loss += weighted_loss.item()\n",
    "        \n",
    "    average_loss = running_loss / len(train_dataloader)\n",
    "    print(f\"Epoch [{epoch+1}/{num_epochs}] - Train Loss: {average_loss:.4f}\")\\\n",
    "    \n",
    "    accuracy = accuracy_score(all_targets, all_logits)\n",
    "\n",
    "    print(f\" Accuracy: {accuracy:.4f}\")"
   ]
  },
  {
   "cell_type": "code",
   "execution_count": 8,
   "id": "010f3f7a-bbad-4eb3-a18e-8054a3acf783",
   "metadata": {},
   "outputs": [
    {
     "data": {
      "image/png": "[encoded data removed]",
      "text/plain": [
       "<Figure size 640x480 with 1 Axes>"
      ]
     },
     "metadata": {},
     "output_type": "display_data"
    }
   ],
   "source": [
    "import numpy as np\n",
    "import matplotlib.pyplot as plt\n",
    "\n",
    "class_labels = ['Regular', 'AFib', 'Arrhythmia']\n",
    "\n",
    "unique_values, counts = np.unique(all_logits, return_counts=True)\n",
    "\n",
    "plt.bar(class_labels, counts, color=['red', 'blue', 'green'], alpha=0.7)\n",
    "plt.xlabel('Class Labels')\n",
    "plt.ylabel('Counts')\n",
    "plt.title('Bar Plot of Training Model Distribution')\n",
    "\n",
    "# Adding legend\n",
    "#plt.legend()\n",
    "\n",
    "plt.show()\n"
   ]
  },
  {
   "cell_type": "code",
   "execution_count": 9,
   "id": "8dea1002-2e96-4ccd-af89-3c1841be6d82",
   "metadata": {
    "scrolled": true
   },
   "outputs": [
    {
     "name": "stdout",
     "output_type": "stream",
     "text": [
      "torch.Size([512, 700, 12])\n",
      "Accuracy: 0.3340\n"
     ]
    }
   ],
   "source": [
    "from sklearn.metrics import precision_recall_curve, roc_auc_score, auc, accuracy_score\n",
    "model.eval()  \n",
    "all_outputs = []\n",
    "all_targets = []\n",
    "all_logits = []\n",
    "with torch.no_grad():\n",
    "    for inputs, dem_inputs, targets in test_dataloader:\n",
    "        outputs = model(inputs, dem_inputs)\n",
    "        predictions = outputs.argmax(dim=1)\n",
    "        all_logits.extend(predictions.cpu().numpy())\n",
    "        all_outputs.extend(outputs[:, 1].cpu().numpy())\n",
    "        all_targets.extend(targets.cpu().numpy())\n",
    "    \n",
    "accuracy = accuracy_score(all_targets, all_logits)\n",
    "\n",
    "print(f\"Accuracy: {accuracy:.4f}\")\n"
   ]
  },
  {
   "cell_type": "code",
   "execution_count": 10,
   "id": "53986871-8dcd-4633-b03b-672c795c3582",
   "metadata": {},
   "outputs": [
    {
     "data": {
      "text/plain": [
       "(array([0, 1, 2]), array([480,  18,  14]))"
      ]
     },
     "execution_count": 10,
     "metadata": {},
     "output_type": "execute_result"
    }
   ],
   "source": [
    "unique_values, counts = np.unique(all_logits, return_counts=True)\n",
    "unique_values, counts"
   ]
  },
  {
   "cell_type": "code",
   "execution_count": 12,
   "id": "d826a80c-5532-4d12-97a1-843ef38695c8",
   "metadata": {},
   "outputs": [
    {
     "data": {
      "image/png": "[encoded data removed]",
      "text/plain": [
       "<Figure size 640x480 with 1 Axes>"
      ]
     },
     "metadata": {},
     "output_type": "display_data"
    }
   ],
   "source": [
    "import numpy as np\n",
    "import matplotlib.pyplot as plt\n",
    "\n",
    "class_labels = ['Regular', 'AFib', 'Arrhythmia']\n",
    "\n",
    "unique_values, counts = np.unique(all_logits, return_counts=True)\n",
    "\n",
    "plt.bar(class_labels, counts, color=['red', 'blue', 'green'], alpha=0.7)\n",
    "plt.xlabel('Class Labels')\n",
    "plt.ylabel('Counts')\n",
    "plt.title('Bar Plot of Test Predictions')\n",
    "\n",
    "# Adding legend\n",
    "#plt.legend()\n",
    "\n",
    "plt.show()"
   ]
  },
  {
   "cell_type": "code",
   "execution_count": 16,
   "id": "275e2efe-550d-4f8b-91d4-3fd37f86e32e",
   "metadata": {},
   "outputs": [],
   "source": [
    "from sklearn.metrics import precision_score, recall_score, f1_score\n",
    "precision = precision_score(all_targets, all_logits, average = None)\n",
    "recall = recall_score(all_targets, all_logits, average = None)\n",
    "f1 = f1_score(all_targets, all_logits, average = None)"
   ]
  },
  {
   "cell_type": "code",
   "execution_count": 20,
   "id": "46cad76a-7f0d-46f7-80d2-4618cab159bd",
   "metadata": {},
   "outputs": [
    {
     "name": "stdout",
     "output_type": "stream",
     "text": [
      "F1_score is: [0.50381679 0.04316547 0.02608696]\n",
      "Precison is: [0.34375    0.16666667 0.21428571]\n",
      "Recall is: [0.94285714 0.02479339 0.01388889]\n"
     ]
    }
   ],
   "source": [
    "print('F1_score is: ' + str(f1))\n",
    "print('Precison is: ' + str(precision))\n",
    "print('Recall is: ' + str(recall))"
   ]
  },
  {
   "cell_type": "code",
   "execution_count": 13,
   "id": "fa8cd8f6-7e94-4c29-990a-925215a0448a",
   "metadata": {},
   "outputs": [],
   "source": [
    "torch.save(model.state_dict(), '../saved_model/transformer_model.pth')"
   ]
  },
  {
   "cell_type": "code",
   "execution_count": null,
   "id": "421ec77e-4829-465f-ad91-33c1f662c81b",
   "metadata": {},
   "outputs": [],
   "source": []
  }
 ],
 "metadata": {
  "kernelspec": {
   "display_name": "slate38_v7",
   "language": "python",
   "name": "slate38_v7"
  },
  "language_info": {
   "codemirror_mode": {
    "name": "ipython",
    "version": 3
   },
   "file_extension": ".py",
   "mimetype": "text/x-python",
   "name": "python",
   "nbconvert_exporter": "python",
   "pygments_lexer": "ipython3",
   "version": "3.8.17"
  }
 },
 "nbformat": 4,
 "nbformat_minor": 5
}
